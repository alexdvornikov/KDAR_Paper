{
 "cells": [
  {
   "cell_type": "code",
   "execution_count": null,
   "metadata": {},
   "outputs": [],
   "source": [
    "# KDAR NuWro Generator Kinet Energy Distributions "
   ]
  },
  {
   "cell_type": "code",
   "execution_count": 56,
   "metadata": {},
   "outputs": [],
   "source": [
    "import sys\n",
    "import math\n",
    "import uproot\n",
    "import numpy as np\n",
    "import matplotlib.pyplot as plt\n",
    "\n",
    "m_prot = 938.272\n",
    "m_mu = 105.6584"
   ]
  },
  {
   "cell_type": "code",
   "execution_count": 57,
   "metadata": {},
   "outputs": [],
   "source": [
    "def get_energies(file_name, cap_bool):\n",
    "    \n",
    "    # Get the proton and muon kinetic energies \n",
    "    # If cap_bool is set to True then only get 2 particle topologies \n",
    "\n",
    "    data = uproot.open(file_name).get('treeout')\n",
    "    postpdg = np.array(data[\"post.pdg\"].array())\n",
    "    E = np.array(data[\"post.t\"].array())\n",
    "    cc_bool = data['flag.cc'].array()\n",
    "\n",
    "    i = 0\n",
    "    protE, muE, n_prot = [], [], []\n",
    "    # Event Loop\n",
    "    while i < len(postpdg):   \n",
    "        # len(postpdg) is the number of events\n",
    "        # len(postpdg[i]) is the number of particles exiting the nucleus in an event\n",
    "\n",
    "        if cap_bool == True: \n",
    "            condition = (len(postpdg[i]) == 2)\n",
    "        else: \n",
    "            condition = (len(postpdg[i]) > 0)\n",
    "            \n",
    "        # Enforce (or do not enforce) a 2 particle cap and make sure to grab only the CC channels\n",
    "        if ( condition and (cc_bool[i] == True) ):\n",
    "\n",
    "            # Get the kinetic energies of the protons (summed) and muons\n",
    "            j, prot_E, proton_count = 0, 0, 0 #Initializers\n",
    "            while j < len(postpdg[i]): \n",
    "                energy = E[i][j]\n",
    "                if postpdg[i][j] == 2212: #Proton\n",
    "                    proton_count += 1\n",
    "                    KE = energy - m_prot \n",
    "                    prot_E += KE\n",
    "                if postpdg[i][j] == 13: # Muon\n",
    "                    KE = energy - m_mu\n",
    "                    muE.append( KE )                            \n",
    "                j += 1\n",
    "\n",
    "            protE.append( prot_E )\n",
    "            n_prot.append( proton_count )\n",
    "\n",
    "        i += 1     \n",
    "\n",
    "    # Change lists to arrays\n",
    "    protE = np.array( protE )\n",
    "    muE = np.array( muE )\n",
    "    n_prot = np.array(n_prot)\n",
    "    \n",
    "    return protE, muE, n_prot"
   ]
  },
  {
   "cell_type": "code",
   "execution_count": 58,
   "metadata": {},
   "outputs": [],
   "source": [
    "def plot_energies(protE, muE, n_prot, proton_bool): \n",
    "    \n",
    "    # Enforce a single (multi) proton topology\n",
    "    if proton_bool == True: \n",
    "        condition = (n_prot == 1)\n",
    "    else: \n",
    "        condition = (n_prot > 1)\n",
    "    \n",
    "    fig, axes = plt.subplots(nrows=1, ncols=2, figsize=(12, 5))\n",
    "    axes[0].hist(protE[ condition ], bins = 50, color=\"b\", alpha = 0.3)\n",
    "    axes[0].tick_params(axis='both', which='major', labelsize = 18)\n",
    "    axes[0].set_xlabel( 'Proton Kinetic Energy (MeV)', fontsize = 18 )\n",
    "    axes[0].set_ylabel( 'Arbitrary Units', fontsize = 18 )\n",
    "\n",
    "    axes[1].hist(muE[ condition ], bins = 50, color=\"b\", alpha = 0.3)\n",
    "    axes[1].tick_params(axis='both', which='major', labelsize = 18)\n",
    "    axes[1].set_xlabel( 'Muon Kinetic Energy (MeV)', fontsize = 18 )\n",
    "    fig.tight_layout()\n",
    "    plt.setp(axes, yticks=[])\n",
    "    plt.show()"
   ]
  },
  {
   "cell_type": "code",
   "execution_count": 59,
   "metadata": {},
   "outputs": [
    {
     "data": {
      "image/png": "[encoded data removed]",
      "text/plain": [
       "<Figure size 864x360 with 2 Axes>"
      ]
     },
     "metadata": {
      "needs_background": "light"
     },
     "output_type": "display_data"
    }
   ],
   "source": [
    "file_name = 'all_channels.root' # Your file here\n",
    "\n",
    "# No total particle cap, single proton events\n",
    "protE, muE, n_prot = get_energies(file_name, False)\n",
    "plot_energies( protE, muE, n_prot, True)"
   ]
  },
  {
   "cell_type": "code",
   "execution_count": 60,
   "metadata": {},
   "outputs": [
    {
     "data": {
      "image/png": "[encoded data removed]",
      "text/plain": [
       "<Figure size 864x360 with 2 Axes>"
      ]
     },
     "metadata": {
      "needs_background": "light"
     },
     "output_type": "display_data"
    }
   ],
   "source": [
    "# No total particle cap, multi-proton events\n",
    "plot_energies( protE, muE, n_prot, False)"
   ]
  },
  {
   "cell_type": "code",
   "execution_count": 61,
   "metadata": {},
   "outputs": [
    {
     "data": {
      "image/png": "[encoded data removed]",
      "text/plain": [
       "<Figure size 864x360 with 2 Axes>"
      ]
     },
     "metadata": {
      "needs_background": "light"
     },
     "output_type": "display_data"
    }
   ],
   "source": [
    "# Now, enforce a 2 particle cap (1 proton, 1 muon)\n",
    "protE, muE, n_prot = get_energies(file_name, True)\n",
    "plot_energies( protE, muE, n_prot, True)"
   ]
  },
  {
   "cell_type": "code",
   "execution_count": null,
   "metadata": {},
   "outputs": [],
   "source": []
  }
 ],
 "metadata": {
  "kernelspec": {
   "display_name": "Python 3",
   "language": "python",
   "name": "python3"
  },
  "language_info": {
   "codemirror_mode": {
    "name": "ipython",
    "version": 3
   },
   "file_extension": ".py",
   "mimetype": "text/x-python",
   "name": "python",
   "nbconvert_exporter": "python",
   "pygments_lexer": "ipython3",
   "version": "3.7.3"
  }
 },
 "nbformat": 4,
 "nbformat_minor": 2
}
